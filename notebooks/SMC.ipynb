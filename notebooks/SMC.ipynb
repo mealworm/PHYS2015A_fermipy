{
 "cells": [
  {
   "cell_type": "markdown",
   "metadata": {},
   "source": [
    "# PHYS2015A/PHYS3009A: GeV Astronomy Project\n",
    "\n",
    "Name: \n",
    "\n",
    "Student No.:\n",
    "\n",
    "total marks: "
   ]
  },
  {
   "cell_type": "markdown",
   "metadata": {},
   "source": [
    "In this project you will do yourself the data analysis of the Small Magellanic Cloud (SMC) . You mainly need to copy and paste code from the PKS2155-304 notebook which we have discussed in the lecture, and make the necessary changes for the new source. You will be provided with example output so that you can check your results. Please put your code in the cells starting with \n",
    "\n",
    "```\n",
    "# your code here\n",
    "```\n",
    "\n",
    "You do not need to edit any other cells. If you want to add additional ouput, or test some things you can create new cells for that."
   ]
  },
  {
   "cell_type": "markdown",
   "metadata": {},
   "source": [
    "## Download the raw files\n",
    "\n",
    "The files can be obtained from the [Fermi SSC website](https://fermi.gsfc.nasa.gov/cgi-bin/ssc/LAT/LATDataQuery.cgi). The following data selection choices were made:\n",
    "\n",
    "* Object name or coordinates: 302.25,-44.37\n",
    "* Coordinate system: GAL\n",
    "* Search radius (degrees): 12\n",
    "* Observation dates: 239557417,512994417\n",
    "* Time system: MET\n",
    "* Energy range (MeV): 100,500000\n",
    "* LAT data type: Photon\n",
    "* Spacecraft data: yes"
   ]
  },
  {
   "cell_type": "markdown",
   "metadata": {},
   "source": [
    "Note that because processing the raw photon and spacecraft files can take multiple hours, you will download the pre-processed data from github."
   ]
  },
  {
   "cell_type": "code",
   "execution_count": 9,
   "metadata": {},
   "outputs": [],
   "source": [
    "import os\n",
    "if os.path.isfile('./../data/SMC_data.tar.gz'):\n",
    "    !tar xzf ./../data/SMC_data.tar.gz\n",
    "else:\n",
    "    !wget -P ./../data/ https://raw.githubusercontent.com/fermiPy/fermipy-extras/master/data/SMC_data.tar.gz\n",
    "    !tar xzf ./../data/SMC_data.tar.gz"
   ]
  },
  {
   "cell_type": "markdown",
   "metadata": {},
   "source": [
    "## Configuration file:"
   ]
  },
  {
   "cell_type": "markdown",
   "metadata": {},
   "source": [
    "The first step is to compose a configuration file that defines the data selection and analysis parameters. Fermipy uses YAML files to read and write its configuration in a persistent format. The configuration file has a hierarchical structure that groups parameters into dictionaries that are keyed to a section name (data, binning, etc.). Below you will report a sample of configuration applied for an analysis of the SMC:"
   ]
  },
  {
   "cell_type": "code",
   "execution_count": 10,
   "metadata": {},
   "outputs": [],
   "source": [
    "import os\n",
    "import numpy as np\n",
    "from fermipy.gtanalysis import GTAnalysis\n",
    "from fermipy.plotting import ROIPlotter, SEDPlotter\n",
    "import matplotlib.pyplot as plt\n",
    "import matplotlib"
   ]
  },
  {
   "cell_type": "code",
   "execution_count": null,
   "metadata": {},
   "outputs": [],
   "source": [
    "!cat ./SMC_data/config.yaml"
   ]
  },
  {
   "cell_type": "markdown",
   "metadata": {},
   "source": [
    "Expected output:\n",
    "\n",
    "```\n",
    "data:\n",
    "  evfile : './SMC_data/PH.txt'\n",
    "  scfile : './SMC_data/SC/SC_copy.fits'\n",
    "  ltcube : 'ltcube_00.fits'\n",
    "\n",
    "binning:\n",
    "  roiwidth   : 12.0\n",
    "  binsz      : 0.08\n",
    "  binsperdec : 8\n",
    "  coordsys   : 'GAL'\n",
    "\n",
    "selection :\n",
    "  emin : 1000\n",
    "  emax : 500000\n",
    "  tmin : 239557417\n",
    "  tmax : 512994417\n",
    "  zmax    : 105\n",
    "  evclass : 128\n",
    "  evtype  : 3\n",
    "  glon: 302.25\n",
    "  glat : -44.37\n",
    " \n",
    "gtlike:\n",
    "  edisp : True\n",
    "  irfs : 'P8R2_SOURCE_V6'\n",
    "  edisp_disable : ['isodiff','galdiff']\n",
    "\n",
    "model:\n",
    "  src_roiwidth : 12.0\n",
    "  galdiff  : '$FERMI_DIFFUSE_DIR/gll_iem_v07.fits'\n",
    "  isodiff  : '$FERMI_DIFFUSE_DIR/iso_P8R2_SOURCE_V6_v06.txt'  \n",
    "  catalogs: gll_psc_v16.fit\n",
    "\n",
    "fileio:\n",
    "  usescratch: False\n",
    "  outdir : SMC_data\n",
    "```"
   ]
  },
  {
   "cell_type": "markdown",
   "metadata": {},
   "source": [
    "The configuration file has the same structure as the configuration dictionary such that one can read/write configurations using the load/dump methods of the yaml module.\n",
    "\n",
    "**Exercise**\n",
    "\n",
    "Load the configuration directory from the file '``./SMC_data/config.yaml``' and replace the ``binsperdec`` parameter in the ``binning`` section with the value 8. Then write the new configuration directory into the configuration file '``new_config.yaml``'.\n",
    "\n",
    "**[3 marks]**"
   ]
  },
  {
   "cell_type": "code",
   "execution_count": 12,
   "metadata": {},
   "outputs": [],
   "source": [
    "## your code here\n",
    "\n",
    "import yaml\n",
    "# Load a configuration\n",
    "config = ...\n",
    "# Update a parameter and write a new configuration\n",
    "...\n",
    "...\n",
    "!cat new_config.yaml"
   ]
  },
  {
   "cell_type": "markdown",
   "metadata": {},
   "source": [
    "Expected output:\n",
    "```\n",
    "data:\n",
    "  evfile : './SMC_data/PH.txt'\n",
    "  scfile : './SMC_data/SC/SC_copy.fits'\n",
    "  ltcube : 'ltcube_00.fits'\n",
    "\n",
    "binning:\n",
    "  roiwidth   : 12.0\n",
    "  binsz      : 0.08\n",
    "  binsperdec : 8\n",
    "  coordsys   : 'GAL'\n",
    "\n",
    "selection :\n",
    "  emin : 1000\n",
    "  emax : 500000\n",
    "  tmin : 239557417\n",
    "  tmax : 512994417\n",
    "  zmax    : 105\n",
    "  evclass : 128\n",
    "  evtype  : 3\n",
    "  glon: 302.25\n",
    "  glat : -44.37\n",
    " \n",
    "gtlike:\n",
    "  edisp : True\n",
    "  irfs : 'P8R2_SOURCE_V6'\n",
    "  edisp_disable : ['isodiff','galdiff']\n",
    "\n",
    "model:\n",
    "  src_roiwidth : 12.0\n",
    "  galdiff  : '$FERMI_DIFFUSE_DIR/gll_iem_v07.fits'\n",
    "  isodiff  : '$FERMI_DIFFUSE_DIR/iso_P8R2_SOURCE_V6_v06.txt'  \n",
    "  catalogs: gll_psc_v16.fit\n",
    "\n",
    "fileio:\n",
    "  usescratch: False\n",
    "  outdir : SMC_data\n",
    "```"
   ]
  },
  {
   "cell_type": "markdown",
   "metadata": {},
   "source": [
    "The data section defines the input data set and spacecraft file for the analysis. Here evfile points to a list of FT1 files that encompass the chosen ROI, energy range, and time selection.\n",
    "The parameters in the binning section define the dimensions of the ROI and the spatial and energy bin size.\n",
    "The selection section defines parameters related to the data selection (energy range, zmax cut, and event class/type). The target parameter in this section defines the ROI center to have the same coordinates as the given source.\n",
    "The model section defines parameters related to the ROI model definition (diffuse templates, point sources).\n",
    "Fermipy gives the user the option to combine multiple data selections into a joint likelihood with the components section. For more informations on this visit: http://fermipy.readthedocs.io/en/latest/quickstart.html"
   ]
  },
  {
   "cell_type": "markdown",
   "metadata": {},
   "source": [
    "Note that the setup for a joint analysis is identical to the above except for the modification to the components section.  The following example shows the components configuration one would use to define a joint analysis with the four PSF event types:\n",
    "```python\n",
    "components:\n",
    "  - { selection : { evtype : 4  } }\n",
    "  - { selection : { evtype : 8  } }\n",
    "  - { selection : { evtype : 16 } }\n",
    "  - { selection : { evtype : 32 } }\n",
    "```"
   ]
  },
  {
   "cell_type": "markdown",
   "metadata": {},
   "source": [
    "## Start your run"
   ]
  },
  {
   "cell_type": "markdown",
   "metadata": {},
   "source": [
    "First of all you need to load the configuration file, create the object gta and run the tool gta.setup that implements the ST gtselect, gtmktime, gtbin, gtexpcube, gtsrcmap tools"
   ]
  },
  {
   "cell_type": "markdown",
   "metadata": {},
   "source": [
    "Begin the setup routine. As most of the files are included, only the source-map should be created. Will take ~5min."
   ]
  },
  {
   "cell_type": "code",
   "execution_count": null,
   "metadata": {},
   "outputs": [],
   "source": [
    "gta = GTAnalysis('new_config.yaml')\n",
    "gta.setup()"
   ]
  },
  {
   "cell_type": "code",
   "execution_count": null,
   "metadata": {},
   "outputs": [],
   "source": [
    "gta.print_model()"
   ]
  },
  {
   "cell_type": "code",
   "execution_count": null,
   "metadata": {},
   "outputs": [],
   "source": [
    "gta.free_sources()\n",
    "gta.fit()"
   ]
  },
  {
   "cell_type": "markdown",
   "metadata": {},
   "source": [
    "## Output files"
   ]
  },
  {
   "cell_type": "markdown",
   "metadata": {},
   "source": [
    "The current state of the ROI can be written at any point by calling write_roi."
   ]
  },
  {
   "cell_type": "code",
   "execution_count": null,
   "metadata": {},
   "outputs": [],
   "source": [
    "gta.write_roi('initial',make_plots=True,save_model_map=True)\n",
    "plt.show()"
   ]
  },
  {
   "cell_type": "markdown",
   "metadata": {},
   "source": [
    "The output file will contain all information about the state of the ROI as calculated up to that point in the analysis including model parameters and measured source characteristics (flux, TS, NPred). An XML model file will also be saved for each analysis component."
   ]
  },
  {
   "cell_type": "markdown",
   "metadata": {},
   "source": [
    "The output file can be read with load:"
   ]
  },
  {
   "cell_type": "code",
   "execution_count": null,
   "metadata": {},
   "outputs": [],
   "source": [
    "gta.load_roi('initial')"
   ]
  },
  {
   "cell_type": "markdown",
   "metadata": {},
   "source": [
    "Using gta.print_model You have an overview of the sources and components present in the ROI."
   ]
  },
  {
   "cell_type": "code",
   "execution_count": null,
   "metadata": {},
   "outputs": [],
   "source": [
    "gta.print_model()"
   ]
  },
  {
   "cell_type": "markdown",
   "metadata": {},
   "source": [
    "## Source Dictionary"
   ]
  },
  {
   "cell_type": "markdown",
   "metadata": {},
   "source": [
    "The sources dictionary contains one element per source keyed to the source name. It is possible to have access to a lot of informations concerning each source of model."
   ]
  },
  {
   "cell_type": "code",
   "execution_count": null,
   "metadata": {},
   "outputs": [],
   "source": [
    "print(gta.roi.sources[0].name) #NAME OF THE SOURCE\n",
    "print(gta.roi[gta.roi.sources[0].name]) #NAME OF THE SOURCE\n",
    "print(gta.roi[gta.roi.sources[0].name]['glon']) #Longitude OF THE SOURCE\n",
    "print(gta.roi[gta.roi.sources[0].name]['glat']) #Latitude OF THE SOURCE\n",
    "print(gta.roi[gta.roi.sources[0].name]['flux']) #Flux OF THE SOURCE\n",
    "print(gta.roi[gta.roi.sources[0].name]['npred']) #npred OF THE SOURCE"
   ]
  },
  {
   "cell_type": "markdown",
   "metadata": {},
   "source": [
    "Other possible outputs are listed here [fermipy/sourcedictionary](http://fermipy.readthedocs.io/en/latest/output.html)"
   ]
  },
  {
   "cell_type": "code",
   "execution_count": null,
   "metadata": {},
   "outputs": [],
   "source": [
    "gta.free_shape(gta.roi.sources[0].name,free=False) #Free or fix the index\n",
    "gta.get_free_source_params(gta.roi.sources[0].name) #Free or fix parameters for a source\n",
    "gta.set_parameter(gta.roi.sources[0].name,par='Index',value=2.0,scale=-1.0,bounds=[-2.,5.]) #Change the value and bounds for a parameter of a source"
   ]
  },
  {
   "cell_type": "markdown",
   "metadata": {},
   "source": [
    "You can always use gta.print_model() to have a summary of you model."
   ]
  },
  {
   "cell_type": "code",
   "execution_count": null,
   "metadata": {},
   "outputs": [],
   "source": [
    "gta.print_model()"
   ]
  },
  {
   "cell_type": "markdown",
   "metadata": {},
   "source": [
    "## Customizing your model"
   ]
  },
  {
   "cell_type": "markdown",
   "metadata": {},
   "source": [
    "The ROIModel class is responsible for managing the source and diffuse components in the ROI. Configuration of the model is controlled with the model block of YAML configuration file."
   ]
  },
  {
   "cell_type": "markdown",
   "metadata": {},
   "source": [
    "DIFFUSE AND ISOTROPIC TEMPLATES\n",
    "\n",
    "The simplest configuration uses a single file for the galactic and isotropic diffuse components. By default the galactic diffuse and isotropic components will be named galdiff and isodiff respectively. An alias for each component will also be created with the name of the mapcube or file spectrum. For instance the galactic diffuse can be referred to as galdiff or gll_iem_v06 in the following example."
   ]
  },
  {
   "cell_type": "raw",
   "metadata": {},
   "source": [
    "model:\n",
    "  src_roiwidth : 10.0\n",
    "  galdiff  : '$FERMI_DIFFUSE_DIR/gll_iem_v06.fits'\n",
    "  isodiff  : '$FERMI_DIFFUSE_DIR/isotropic_source_4years_P8V3.txt'\n",
    "  catalogs : ['gll_psc_v14.fit']"
   ]
  },
  {
   "cell_type": "markdown",
   "metadata": {},
   "source": [
    "To define two or more galactic diffuse components you can optionally define the galdiff and isodiff parameters as lists. A separate component will be generated for each element in the list with the name galdiffXX or isodiffXX where XX is an integer position in the list."
   ]
  },
  {
   "cell_type": "raw",
   "metadata": {},
   "source": [
    "model:\n",
    "  galdiff  :\n",
    "    - '$FERMI_DIFFUSE_DIR/diffuse_component0.fits'\n",
    "    - '$FERMI_DIFFUSE_DIR/diffuse_component1.fits'"
   ]
  },
  {
   "cell_type": "markdown",
   "metadata": {},
   "source": [
    "SOURCE COMPONENT"
   ]
  },
  {
   "cell_type": "markdown",
   "metadata": {},
   "source": [
    "The list of sources for inclusion in the ROI model is set by defining a list of catalogs with the catalogs parameter. Catalog files can be in either XML or FITS format. Sources from the catalogs in this list that satisfy either the src_roiwidth or src_radius selections are added to the ROI model. If a source is defined in multiple catalogs the source definition from the last file in the catalogs list takes precedence."
   ]
  },
  {
   "cell_type": "raw",
   "metadata": {},
   "source": [
    "model:\n",
    "\n",
    "  src_radius: 5.0\n",
    "  src_roiwidth: 10.0\n",
    "  catalogs :\n",
    "    - 'gll_psc_v16.fit'\n",
    "    - 'extra_sources.xml'"
   ]
  },
  {
   "cell_type": "markdown",
   "metadata": {},
   "source": [
    "Individual sources can also be defined within the configuration file with the sources parameter. This parameter contains a list of dictionaries that defines the spatial and spectral parameters of each source. The keys of the source dictionary map to the spectral and spatial source properties as they would be defined in the XML model file."
   ]
  },
  {
   "cell_type": "raw",
   "metadata": {},
   "source": [
    "model:\n",
    "  sources  :\n",
    "    - { name: 'SourceA', glon : 120.0, glat : -3.0,\n",
    "     SpectrumType : 'PowerLaw', Index : 2.0, Scale : 1000, Prefactor : !!float 1e-11,\n",
    "     SpatialModel: 'PointSource' }\n",
    "    - { name: 'SourceB', glon : 122.0, glat : -3.0,\n",
    "     SpectrumType : 'LogParabola', norm : !!float 1E-11, Scale : 1000, beta : 0.0,\n",
    "     SpatialModel: 'PointSource' }\n",
    "model:\n",
    "  sources  :\n",
    "    - { name: 'PointSource', glon : 120.0, glat : 0.0,\n",
    "     SpectrumType : 'PowerLaw', Index : 2.0, Scale : 1000, Prefactor : !!float 1e-11,\n",
    "     SpatialModel: 'PointSource' }\n",
    "    - { name: 'DiskSource', glon : 120.0, glat : 0.0,\n",
    "     SpectrumType : 'PowerLaw', Index : 2.0, Scale : 1000, Prefactor : !!float 1e-11,\n",
    "     SpatialModel: 'RadialDisk', SpatialWidth: 1.0 }\n",
    "    - { name: 'GaussSource', glon : 120.0, glat : 0.0,\n",
    "     SpectrumType : 'PowerLaw', Index : 2.0, Scale : 1000, Prefactor : !!float 1e-11,\n",
    "     SpatialModel: 'RadialGaussian', SpatialWidth: 1.0 }\n",
    "    - { name: 'MapSource', glon : 120.0, glat : 0.0,\n",
    "     SpectrumType : 'PowerLaw', Index : 2.0, Scale : 1000, Prefactor : !!float 1e-11,\n",
    "     SpatialModel: 'SpatialTemplate', Spatial_Filename : 'template.fits' }"
   ]
  },
  {
   "cell_type": "markdown",
   "metadata": {},
   "source": [
    "Or you can do it while you are running your script with:"
   ]
  },
  {
   "cell_type": "code",
   "execution_count": null,
   "metadata": {},
   "outputs": [],
   "source": [
    "gta.delete_source(gta.roi.sources[0].name)\n",
    "glon0 = gta.config['selection']['glon']\n",
    "glat0 = gta.config['selection']['glat']\n",
    "gta.add_source('SMC', dict(glon=glon0, glat=glat0, Index=dict(value=-2.4,scale=1.0,max=\"-1.\",min=\"-5.\"), Scale=dict(value=1e3,scale=1.0,max=\"1e5\",min=\"1e0\"), Prefactor=dict(value=1.0,scale=1e-13,max=\"10000.0\", min=\"0.0001\"), SpectrumType='PowerLaw'), free=True, init_source=True, save_source_maps=True)\n",
    "gta.print_model()"
   ]
  },
  {
   "cell_type": "markdown",
   "metadata": {},
   "source": [
    "**Exercise**\n",
    "\n",
    "Answer the following questions:\n",
    "\n",
    "What is the name of the source? Answer here:\n",
    "\n",
    "\n",
    "What is the location of the source in galactic coordinates? Answer here:\n",
    "\n",
    "What is the initial spectral Index of the source? What is the range of its values? Answer here:\n",
    "\n",
    "What is the initial Scale of the source? What is the range of its values? Answer here:\n",
    "\n",
    "What is the initial Prefactor of the source? What is the range of its values? Answer here:\n",
    "\n",
    "What type of spectrum will be used to model the source? Answer here:\n",
    "\n",
    "**[12 marks]**"
   ]
  },
  {
   "cell_type": "markdown",
   "metadata": {},
   "source": [
    "All sources have nan because we have not done yet a fit do the ROI. Moreover in the model above all sources are fixed. In order to free the parameters of the source it's enough to make gta.free_sources()"
   ]
  },
  {
   "cell_type": "code",
   "execution_count": null,
   "metadata": {},
   "outputs": [],
   "source": [
    "gta.free_sources()\n",
    "gta.print_model()"
   ]
  },
  {
   "cell_type": "markdown",
   "metadata": {},
   "source": [
    "It is also possible to free only the sources that are at a certain angular distance from a source. For example below we free the sources that are 2 degrees away from 3FGL J0322.5-3721:"
   ]
  },
  {
   "cell_type": "code",
   "execution_count": null,
   "metadata": {},
   "outputs": [],
   "source": [
    "gta.free_sources(free=False)\n",
    "gta.free_sources(skydir=gta.roi[gta.roi.sources[0].name].skydir,distance=[3.0],free=True)\n",
    "gta.print_model()"
   ]
  },
  {
   "cell_type": "markdown",
   "metadata": {},
   "source": [
    "## Fit Roi"
   ]
  },
  {
   "cell_type": "markdown",
   "metadata": {},
   "source": [
    "Source fitting with fermipy is generally performed with the optimize and fit methods.\n",
    "fit is a wrapper on the pyLikelihood fit method and performs a likelihood fit of all free parameters of the model. This method can be used to manually optimize of the model by calling it after freeing one or more source parameters."
   ]
  },
  {
   "cell_type": "code",
   "execution_count": null,
   "metadata": {
    "scrolled": true
   },
   "outputs": [],
   "source": [
    "gta.print_model()\n",
    "gta.free_sources(free=True)\n",
    "gta.print_model()\n",
    "first_fit=gta.fit()\n",
    "gta.print_model()\n",
    "gta.write_roi('SMC_firstfit',make_plots=True,save_model_map=True)"
   ]
  },
  {
   "cell_type": "markdown",
   "metadata": {},
   "source": [
    "By default fit will repeat the fit until a fit quality of 3 is obtained. After the fit returns all sources with free parameters will have their properties (flux, TS, NPred, etc.) updated in the ROIModel instance. The return value of the method is a dictionary containing the following diagnostic information about the fit."
   ]
  },
  {
   "cell_type": "markdown",
   "metadata": {},
   "source": [
    "The fit also accepts keyword arguments which can be used to configure its behavior at runtime:"
   ]
  },
  {
   "cell_type": "code",
   "execution_count": null,
   "metadata": {
    "scrolled": true
   },
   "outputs": [],
   "source": [
    "print(first_fit['fit_quality'])\n",
    "print(first_fit['errors'])\n",
    "print(first_fit['loglike'])\n",
    "print(first_fit['values'])"
   ]
  },
  {
   "cell_type": "code",
   "execution_count": null,
   "metadata": {},
   "outputs": [],
   "source": [
    "print(gta.roi.sources[0]['param_names'])\n",
    "print(gta.roi.sources[0]['param_values'])\n",
    "print(gta.roi.sources[0]['param_errors'])"
   ]
  },
  {
   "cell_type": "markdown",
   "metadata": {},
   "source": [
    "The optimize method performs an automatic optimization of the ROI by fitting all sources with an iterative strategy. It is generally good practice to run this method once at the start of your analysis to ensure that all parameters are close to their global likelihood maxima."
   ]
  },
  {
   "cell_type": "code",
   "execution_count": null,
   "metadata": {},
   "outputs": [],
   "source": [
    "gta.load_roi('initial')\n",
    "gta.print_model()"
   ]
  },
  {
   "cell_type": "code",
   "execution_count": null,
   "metadata": {},
   "outputs": [],
   "source": [
    "gta.load_roi('SMC_firstfit')\n",
    "gta.print_model()"
   ]
  },
  {
   "cell_type": "markdown",
   "metadata": {},
   "source": [
    "## TS Map"
   ]
  },
  {
   "cell_type": "markdown",
   "metadata": {},
   "source": [
    "tsmap() generates a test statistic (TS) map for an additional source component centered at each spatial bin in the ROI. The methodology is similar to that of the gttsmap ST application but with the following approximations:\n",
    "\n",
    "* Evaluation of the likelihood is limited to pixels in the vicinity of the test source position.\n",
    "* The background model is fixed when fitting the test source amplitude.\n",
    "\n",
    "TS Cube is a related method that can also be used to generate TS maps as well as cubes (TS vs. position and energy)."
   ]
  },
  {
   "cell_type": "code",
   "execution_count": null,
   "metadata": {},
   "outputs": [],
   "source": [
    "plt.clf()\n",
    "tsmap_postfit = gta.tsmap(prefix='TSmap_start',make_plots=True,write_fits=True,write_npy=True)"
   ]
  },
  {
   "cell_type": "code",
   "execution_count": null,
   "metadata": {},
   "outputs": [],
   "source": [
    "plt.clf()\n",
    "fig = plt.figure(figsize=(14,6))\n",
    "ROIPlotter(tsmap_postfit['sqrt_ts'],roi=gta.roi).plot(levels=[0,3,5,7],vmin=0,vmax=5,subplot=121,cmap='magma')\n",
    "plt.gca().set_title('Sqrt(TS)')\n",
    "ROIPlotter(tsmap_postfit['npred'],roi=gta.roi).plot(vmin=0,vmax=100,subplot=122,cmap='magma')\n",
    "plt.gca().set_title('NPred')\n",
    "plt.show()"
   ]
  },
  {
   "cell_type": "markdown",
   "metadata": {},
   "source": [
    "Looking to the TSmap it is quite clear that the model does not fit sufficiently well the data."
   ]
  },
  {
   "cell_type": "markdown",
   "metadata": {},
   "source": [
    "## Residual Map"
   ]
  },
  {
   "cell_type": "markdown",
   "metadata": {},
   "source": [
    "residmap() calculates the residual between smoothed data and model maps. Whereas a TS map is only sensitive to positive deviations with respect to the model, residmap() is sensitive to both positive and negative residuals and therefore can be useful for assessing the model goodness-of-fit. "
   ]
  },
  {
   "cell_type": "code",
   "execution_count": null,
   "metadata": {},
   "outputs": [],
   "source": [
    "resid = gta.residmap('SMC_postfit',model={'SpatialModel' : 'PointSource', 'Index' : 2.0},write_fits=True,write_npy=True,make_plots=True)"
   ]
  },
  {
   "cell_type": "code",
   "execution_count": null,
   "metadata": {},
   "outputs": [],
   "source": [
    "plt.clf()\n",
    "fig = plt.figure(figsize=(14,6))\n",
    "ROIPlotter(resid['data'],roi=gta.roi).plot(vmin=50,vmax=400,subplot=121,cmap='magma')\n",
    "plt.gca().set_title('Data')\n",
    "ROIPlotter(resid['model'],roi=gta.roi).plot(vmin=50,vmax=400,subplot=122,cmap='magma')\n",
    "plt.gca().set_title('Model')\n",
    "plt.show()"
   ]
  },
  {
   "cell_type": "code",
   "execution_count": null,
   "metadata": {},
   "outputs": [],
   "source": [
    "plt.clf()\n",
    "fig = plt.figure(figsize=(14,6))\n",
    "ROIPlotter(resid['sigma'],roi=gta.roi).plot(vmin=-5,vmax=5,levels=[-5,-3,3,5],subplot=121,cmap='RdBu_r')\n",
    "plt.gca().set_title('Significance')\n",
    "ROIPlotter(resid['excess'],roi=gta.roi).plot(vmin=-100,vmax=100,subplot=122,cmap='RdBu_r')\n",
    "plt.gca().set_title('Excess')\n",
    "plt.show()"
   ]
  },
  {
   "cell_type": "markdown",
   "metadata": {},
   "source": [
    "## Source Localization"
   ]
  },
  {
   "cell_type": "markdown",
   "metadata": {},
   "source": [
    "The localize() method can be used to spatially localize a source. Localization is performed by scanning the likelihood surface in source position in a local patch around the nominal source position. The fit to the source position proceeds in two iterations:\n",
    "\n",
    "TS Map Scan: Obtain a first estimate of the source position by generating a likelihood map of the region using the tsmap method. In this step all background parameters are fixed to their nominal values. The size of the search region used for this step is set with the dtheta_max parameter.\n",
    "Likelihood Scan: Refine the position of the source by performing a scan of the likelihood surface in a box centered on the best-fit position found in the first iteration. The size of the search region is set to encompass the 99% positional uncertainty contour. This method uses a full likelihood fit at each point in the likelihood scan and will re-fit all free parameters of the model.\n",
    "If a peak is found in the search region and the positional fit succeeds, the method will update the position of the source in the model to the new best-fit position."
   ]
  },
  {
   "cell_type": "code",
   "execution_count": null,
   "metadata": {},
   "outputs": [],
   "source": [
    "gta.free_sources(free=False)\n",
    "gta.print_model()\n",
    "gta.free_sources(skydir=gta.roi[gta.roi.sources[0].name].skydir,distance=[3.0],free=True)\n",
    "gta.print_model()\n",
    "localsmc = gta.localize(gta.roi.sources[0].name, update=True, make_plots=True)\n",
    "gta.print_model()"
   ]
  },
  {
   "cell_type": "markdown",
   "metadata": {},
   "source": [
    "The SMC is relocalized at 0.07deg."
   ]
  },
  {
   "cell_type": "code",
   "execution_count": null,
   "metadata": {},
   "outputs": [],
   "source": [
    "print(localsmc['glon'])\n",
    "print(localsmc['glat'])\n",
    "print(localsmc['pos_r68'])\n",
    "print(localsmc['pos_r95'])\n",
    "print(localsmc['pos_r99'])\n",
    "print(localsmc['pos_err_semimajor'])\n",
    "print(localsmc['pos_err_semiminor'])\n",
    "print(localsmc['dloglike_loc'])"
   ]
  },
  {
   "cell_type": "markdown",
   "metadata": {},
   "source": [
    "## Extension Fitting"
   ]
  },
  {
   "cell_type": "markdown",
   "metadata": {},
   "source": [
    "The extension() method executes a source extension analysis for a given source by computing a likelihood ratio test with respect to the no-extension (point-source) hypothesis and a best-fit model for extension. The best-fit extension is found by performing a likelihood profile scan over the source width (68% containment) and fitting for the extension that maximizes the model likelihood. Currently this method supports two models for extension: a 2D Gaussian (RadialGaussian) or a 2D disk (RadialDisk).\n",
    "\n",
    "By default the method will fix all background parameters before performing the extension fit. One can leave background parameters free by setting free_background=True."
   ]
  },
  {
   "cell_type": "code",
   "execution_count": null,
   "metadata": {
    "scrolled": true
   },
   "outputs": [],
   "source": [
    "gta.free_sources(free=False)\n",
    "gta.print_model()\n",
    "gta.free_sources(skydir=gta.roi[gta.roi.sources[0].name].skydir,distance=[3.0],free=True)\n",
    "gta.print_model()\n",
    "extensionsmc = gta.extension(gta.roi.sources[0].name,update=True,make_plots=True,sqrt_ts_threshold=3.0,spatial_model='RadialGaussian')\n",
    "gta.print_model()"
   ]
  },
  {
   "cell_type": "markdown",
   "metadata": {},
   "source": [
    "In this specific case SMC is found to be extended with TSext=371 and with an angular extension of 1.19\\pm0.07deg."
   ]
  },
  {
   "cell_type": "code",
   "execution_count": null,
   "metadata": {},
   "outputs": [],
   "source": [
    "print(extensionsmc['ext'])\n",
    "print(extensionsmc['ext_err_hi'])\n",
    "print(extensionsmc['ext_err_lo'])\n",
    "print(extensionsmc['ext_err'])\n",
    "print(extensionsmc['ext'])\n",
    "print(extensionsmc['ext_ul95'])\n",
    "print(extensionsmc['ts_ext'])"
   ]
  },
  {
   "cell_type": "markdown",
   "metadata": {},
   "source": [
    "## Source Finding"
   ]
  },
  {
   "cell_type": "markdown",
   "metadata": {},
   "source": [
    "find_sources() is an iterative source-finding algorithm that uses peak detection on a TS map to find new source candidates. The procedure for adding new sources at each iteration is as follows:\n",
    "\n",
    "* Generate a TS map for the test source model defined with the model argument.\n",
    "* Identify peaks with sqrt(TS) > sqrt_ts_threshold and an angular distance of at least min_separation from a higher amplitude peak in the map.\n",
    "* Order the peaks by TS and add a source at each peak starting from the highest TS peak. Set the source position by fitting a 2D parabola to the log-likelihood surface around the peak maximum. After adding each source, re-fit its spectral parameters.\n",
    "* Add sources at the N highest peaks up to N = sources_per_iter.\n",
    "\n",
    "Source finding is repeated up to max_iter iterations or until no peaks are found in a given iteration. Sources found by the method are added to the model and given designations PS JXXXX.X+XXXX according to their position in celestial coordinates.\n",
    "\n",
    "This may take a few minutes."
   ]
  },
  {
   "cell_type": "code",
   "execution_count": null,
   "metadata": {},
   "outputs": [],
   "source": [
    "gta.free_sources()\n",
    "model = {'Index' : 2.0, 'SpatialModel' : 'PointSource'}\n",
    "findsource26 = gta.find_sources(model=model,sqrt_ts_threshold=5,min_separation=0.2,tsmap_fitter='tsmap')"
   ]
  },
  {
   "cell_type": "code",
   "execution_count": null,
   "metadata": {},
   "outputs": [],
   "source": [
    "gta.print_model()\n",
    "gta.write_roi('SMC_relext_TS25',make_plots=True,save_model_map=True)"
   ]
  },
  {
   "cell_type": "code",
   "execution_count": null,
   "metadata": {},
   "outputs": [],
   "source": [
    "tsmap_relext = gta.tsmap(prefix='TSmap_relext_TS25',make_plots=True,write_fits=True,write_npy=True)"
   ]
  },
  {
   "cell_type": "code",
   "execution_count": null,
   "metadata": {},
   "outputs": [],
   "source": [
    "plt.clf()\n",
    "fig = plt.figure(figsize=(14,6))\n",
    "ROIPlotter(tsmap_relext['sqrt_ts'],roi=gta.roi).plot(levels=[0,3,5,7],vmin=0,vmax=6,subplot=121,cmap='magma')\n",
    "plt.gca().set_title('Sqrt(TS)')\n",
    "ROIPlotter(tsmap_relext['npred'],roi=gta.roi).plot(vmin=0,vmax=100,subplot=122,cmap='magma')\n",
    "plt.gca().set_title('NPred')\n",
    "plt.show()"
   ]
  },
  {
   "cell_type": "code",
   "execution_count": null,
   "metadata": {},
   "outputs": [],
   "source": [
    "resid_relext = gta.residmap('TSmap_relext_TS26',model={'SpatialModel' : 'PointSource', 'Index' : 2.0},write_fits=True,write_npy=True,make_plots=True)"
   ]
  },
  {
   "cell_type": "code",
   "execution_count": null,
   "metadata": {},
   "outputs": [],
   "source": [
    "plt.clf()\n",
    "fig = plt.figure(figsize=(14,6))\n",
    "ROIPlotter(resid_relext['data'],roi=gta.roi).plot(vmin=50,vmax=400,subplot=121,cmap='magma')\n",
    "plt.gca().set_title('Data')\n",
    "ROIPlotter(resid_relext['model'],roi=gta.roi).plot(vmin=50,vmax=400,subplot=122,cmap='magma')\n",
    "plt.gca().set_title('Model')\n",
    "plt.show()"
   ]
  },
  {
   "cell_type": "code",
   "execution_count": null,
   "metadata": {},
   "outputs": [],
   "source": [
    "plt.clf()\n",
    "fig = plt.figure(figsize=(14,6))\n",
    "ROIPlotter(resid_relext['sigma'],roi=gta.roi).plot(vmin=-5,vmax=5,levels=[-5,-3,3,5],subplot=121,cmap='RdBu_r')\n",
    "plt.gca().set_title('Significance')\n",
    "ROIPlotter(resid_relext['excess'],roi=gta.roi).plot(vmin=-100,vmax=100,subplot=122,cmap='RdBu_r')\n",
    "plt.gca().set_title('Excess')\n",
    "plt.show()"
   ]
  },
  {
   "cell_type": "markdown",
   "metadata": {},
   "source": [
    "## Sed Analysis"
   ]
  },
  {
   "cell_type": "markdown",
   "metadata": {},
   "source": [
    "The sed() method computes a spectral energy distribution (SED) by performing independent fits for the flux normalization of a source in bins of energy. The normalization in each bin is fit using a power-law spectral parameterization with a fixed index. The value of this index can be set with the bin_index parameter or allowed to vary over the energy range according to the local slope of the global spectral model (with the use_local_index parameter).\n",
    "\n",
    "The free_background, free_radius, and cov_scale parameters control how nuisance parameters are dealt with in the fit. By default the method will fix the parameters of background components ROI when fitting the source normalization in each energy bin (free_background=False). Setting free_background=True will profile the normalizations of all background components that were free when the method was executed. In order to minimize overfitting, background normalization parameters are constrained with priors taken from the global fit. The strength of the priors is controlled with the cov_scale parameter. A larger (smaller) value of cov_scale applies a weaker (stronger) constraint on the background amplitude. Setting cov_scale=None performs an unconstrained fit without priors.\n"
   ]
  },
  {
   "cell_type": "code",
   "execution_count": null,
   "metadata": {},
   "outputs": [],
   "source": [
    "gta.free_sources(free=False)\n",
    "gta.print_model()\n",
    "gta.free_sources(skydir=gta.roi[gta.roi.sources[0].name].skydir,distance=[3.0],free=True)\n",
    "gta.print_model()\n",
    "sedsmc = gta.sed(gta.roi.sources[0].name, bin_index=2.2, outfile='sedSMC.fits', loge_bins=None,write_npy=True,write_fits=True,make_plots=True)"
   ]
  },
  {
   "cell_type": "code",
   "execution_count": null,
   "metadata": {},
   "outputs": [],
   "source": [
    "print(sedsmc['e_min'])\n",
    "print(sedsmc['e_max'])\n",
    "print(sedsmc['e_ref'])\n",
    "print(sedsmc['flux'])\n",
    "print(sedsmc['eflux'])\n",
    "print(sedsmc['e2dnde'])\n",
    "print(sedsmc['dnde_ul95'])\n",
    "print(sedsmc['ts'])"
   ]
  },
  {
   "cell_type": "code",
   "execution_count": null,
   "metadata": {},
   "outputs": [],
   "source": [
    "# E^2 x Differential flux ULs in each bin in units of MeV cm^{-2} s^{-1}\n",
    "print(sedsmc['e2dnde_ul95'])\n",
    "\n",
    "e2dnde_scan = sedsmc['norm_scan']*sedsmc['ref_e2dnde'][:,None]\n",
    "\n",
    "plt.clf()\n",
    "plt.figure()\n",
    "plt.plot(e2dnde_scan[0],sedsmc['dloglike_scan'][0]-np.max(sedsmc['dloglike_scan'][0]))\n",
    "plt.gca().set_ylim(-5,1)\n",
    "plt.gca().axvline(sedsmc['e2dnde_ul95'][0],color='k')\n",
    "plt.gca().axhline(-2.71/2.,color='r')\n",
    "plt.show()"
   ]
  },
  {
   "cell_type": "code",
   "execution_count": null,
   "metadata": {},
   "outputs": [],
   "source": [
    "plt.clf()\n",
    "fig = plt.figure(figsize=(14,4))\n",
    "ylim=[1E-7,1E-5]\n",
    "fig.add_subplot(121)\n",
    "SEDPlotter(sedsmc).plot()\n",
    "plt.gca().set_ylim(ylim)\n",
    "plt.show()"
   ]
  },
  {
   "cell_type": "code",
   "execution_count": null,
   "metadata": {},
   "outputs": [],
   "source": [
    "plt.clf()\n",
    "fig = plt.figure(figsize=(14,4))\n",
    "fig.add_subplot(121)\n",
    "SEDPlotter(sedsmc).plot(showlnl=True,ylim=ylim)\n",
    "plt.gca().set_ylim(ylim)\n",
    "plt.show()"
   ]
  },
  {
   "cell_type": "markdown",
   "metadata": {},
   "source": [
    "Let's write out the SED flux points to an extended CSV file. You would need this to fit a model to a multi-wavelength spectrum."
   ]
  },
  {
   "cell_type": "code",
   "execution_count": null,
   "metadata": {},
   "outputs": [],
   "source": [
    "from astropy.table import Table\n",
    "sed_tab = Table.read('SMC_data/sedSMC.fits')\n",
    "sed_tab.write('SMC_data/SMC_sed.ecsv',exclude_names=['norm_scan','dloglike_scan'],overwrite=True)"
   ]
  }
 ],
 "metadata": {
  "kernelspec": {
   "display_name": "Python 3 (ipykernel)",
   "language": "python",
   "name": "python3"
  },
  "language_info": {
   "codemirror_mode": {
    "name": "ipython",
    "version": 3
   },
   "file_extension": ".py",
   "mimetype": "text/x-python",
   "name": "python",
   "nbconvert_exporter": "python",
   "pygments_lexer": "ipython3",
   "version": "3.9.19"
  }
 },
 "nbformat": 4,
 "nbformat_minor": 4
}
